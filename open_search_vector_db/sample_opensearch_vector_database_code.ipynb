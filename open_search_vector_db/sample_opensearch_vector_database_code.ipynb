{
 "cells": [
  {
   "cell_type": "markdown",
   "source": [
    "Create the content definition to load into the index.\n",
    "There are two options for loading web content\n",
    "1. List the URLs you want to load in, like this example\n",
    "2. Provide a sitemap url in the \"location\" field along with optional \"whitelist\" and/or \"blacklist\" arrays to filter the site\n",
    "\n",
    "The content definition is a list, allowing you to load multiples sources and data types into the OpenSearch index in one pass "
   ],
   "metadata": {
    "collapsed": false
   },
   "id": "45156a4ce1325dee"
  },
  {
   "cell_type": "code",
   "execution_count": 1,
   "outputs": [],
   "source": [
    "artemis_url_list = [\n",
    "    \"https://en.wikipedia.org/wiki/Artemis_program\",\n",
    "    \"https://www.nasa.gov/humans-in-space/artemis/\",\n",
    "    \"https://www.nasa.gov/mission/artemis-i/\",\n",
    "    \"https://www.nasa.gov/mission/artemis-ii/\",\n",
    "    \"https://www.nasa.gov/directorates/esdmd/common-exploration-systems-development-division/space-launch-system/rocket-propellant-tanks-for-nasas-artemis-iii-mission-take-shape/\",\n",
    "    \"https://www.nasa.gov/centers-and-facilities/hq/splashdown-nasas-orion-returns-to-earth-after-historic-moon-mission/\",\n",
    "    \"https://www.nasa.gov/missions/artemis/nasas-first-flight-with-crew-important-step-on-long-term-return-to-the-moon-missions-to-mars/\",\n",
    "    \"https://www.nasa.gov/missions/artemis/artemis-iii/\",\n",
    "    \"https://www.rmg.co.uk/stories/topics/nasa-moon-mission-artemis-program-launch-date\",\n",
    "    \"https://www.asc-csa.gc.ca/eng/astronomy/moon-exploration/artemis-missions.asp\",\n",
    "    \"https://www.space.com/nasa-artemis-2-moon-mission-delay-september-2025\"\n",
    "]\n",
    "\n",
    "content_source = {\"name\": \"Reports\", \"type\": \"Website\", \"items\": artemis_url_list}\n",
    "\n",
    "content_sources = [content_source]\n",
    "\n",
    "my_open_search_domain_name = 'rise-gardens-kb-v2'\n",
    "my_index_name = 'index-artemis-mission'\n"
   ],
   "metadata": {
    "collapsed": true,
    "ExecuteTime": {
     "end_time": "2024-02-20T01:53:19.196815Z",
     "start_time": "2024-02-20T01:53:19.192446Z"
    }
   },
   "id": "initial_id"
  },
  {
   "cell_type": "markdown",
   "source": [
    "Now Load this content into the Open Search Vector DB (domain name and index)\n",
    "- You can defer providing the content source in the constructor and pass it into the load command.  This allows you to load multiple content sources into the same index."
   ],
   "metadata": {
    "collapsed": false
   },
   "id": "97065b428a5b0c72"
  },
  {
   "cell_type": "code",
   "execution_count": 2,
   "outputs": [
    {
     "name": "stdout",
     "output_type": "stream",
     "text": [
      "Going to load 1 data sources into rise-gardens-kb-v2 domain and index-artemis-mission index\n",
      "Processing content for Reports \n",
      "   Found 11 URLs. Filted down to 11. Lets go screen scraping (the slow part)\n",
      "   ... and scraped pages resulting in 11 documents\n",
      "   Chunked 11 documents into 1137 chunks using size=256\n",
      "Loading 1137 content chunks from Reports into DB\n",
      "   Open search with endpoint=search-rise-gardens-kb-v2-oaawkglpdwe6l22d2mh4ccvsay.us-east-2.es.amazonaws.com and getting ready to load\n",
      "   Index name = index-artemis-mission and loading 1137 document chunks\n",
      "   Deleting index=index-artemis-mission\n",
      "   Index deleted.\n",
      "   Now loading 1137 document chunks in 2 batches of 1000\n",
      "     Loaded batch 1 of 2\n",
      "     Loaded batch 2 of 2\n",
      "   Documents loaded into the DB\n"
     ]
    }
   ],
   "source": [
    "from aws_opensearch_vector_database import OpenSearchVectorDBLoader\n",
    "vectordb_loader = OpenSearchVectorDBLoader(domain_name=my_open_search_domain_name,  \n",
    "                                     index_name=my_index_name,\n",
    "                                     data_sources=content_sources)\n",
    "\n",
    "vectordb_loader.load()"
   ],
   "metadata": {
    "collapsed": false,
    "ExecuteTime": {
     "end_time": "2024-02-20T01:58:37.259668Z",
     "start_time": "2024-02-20T01:53:31.312476Z"
    }
   },
   "id": "a9e7430db4c14cad"
  },
  {
   "cell_type": "markdown",
   "source": [
    "Query the results"
   ],
   "metadata": {
    "collapsed": false
   },
   "id": "9b8042d2b2ec5c52"
  },
  {
   "cell_type": "code",
   "execution_count": 3,
   "outputs": [
    {
     "name": "stdout",
     "output_type": "stream",
     "text": [
      "Returned 5 documents.  Summary below\n",
      "   Dock length: 95 for URL: https://www.rmg.co.uk/stories/topics/nasa-moon-mission-artemis-program-launch-date\n",
      "   Dock length: 190 for URL: https://www.space.com/nasa-artemis-2-moon-mission-delay-september-2025\n",
      "   Dock length: 250 for URL: https://www.space.com/nasa-artemis-2-moon-mission-delay-september-2025\n",
      "   Dock length: 237 for URL: https://en.wikipedia.org/wiki/Artemis_program\n",
      "   Dock length: 246 for URL: https://www.nasa.gov/mission/artemis-ii/\n"
     ]
    }
   ],
   "source": [
    "from aws_opensearch_vector_database import OpenSearchVectorDBQuery\n",
    "vectordb = OpenSearchVectorDBQuery(domain_name='rise-gardens-kb-v2', index_name='index-artemis-mission')\n",
    "results = vectordb.query(\"Who are the astronauts that are going to land on the moon\")\n",
    "print(f\"Returned {len(results)} documents.  Summary below\")\n",
    "for doc in results:\n",
    "    print(f\"   Dock length: {len(doc.page_content)} for URL: {doc.metadata['source']}\")\n"
   ],
   "metadata": {
    "collapsed": false,
    "ExecuteTime": {
     "end_time": "2024-02-20T01:58:56.159765Z",
     "start_time": "2024-02-20T01:58:54.693742Z"
    }
   },
   "id": "3463eac5a81af023"
  },
  {
   "cell_type": "code",
   "execution_count": null,
   "outputs": [],
   "source": [],
   "metadata": {
    "collapsed": false
   },
   "id": "8e46118f80d7a8bf"
  }
 ],
 "metadata": {
  "kernelspec": {
   "display_name": "Python 3",
   "language": "python",
   "name": "python3"
  },
  "language_info": {
   "codemirror_mode": {
    "name": "ipython",
    "version": 2
   },
   "file_extension": ".py",
   "mimetype": "text/x-python",
   "name": "python",
   "nbconvert_exporter": "python",
   "pygments_lexer": "ipython2",
   "version": "2.7.6"
  }
 },
 "nbformat": 4,
 "nbformat_minor": 5
}
