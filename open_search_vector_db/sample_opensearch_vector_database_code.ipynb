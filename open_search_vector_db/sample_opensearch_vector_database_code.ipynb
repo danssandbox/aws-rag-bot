{
 "cells": [
  {
   "cell_type": "markdown",
   "source": [
    "Create the content definition to load into the index.\n",
    "There are two options for loading web content\n",
    "1. List the URLs you want to load in, like this example\n",
    "2. Provide a sitemap url in the \"location\" field along with optional \"whitelist\" and/or \"blacklist\" arrays to filter the site\n",
    "\n",
    "The content definition is a list, allowing you to load multiples sources and data types into the OpenSearch index in one pass "
   ],
   "metadata": {
    "collapsed": false
   },
   "id": "45156a4ce1325dee"
  },
  {
   "cell_type": "code",
   "execution_count": 1,
   "outputs": [],
   "source": [
    "artemis_url_list = [\n",
    "    \"https://en.wikipedia.org/wiki/Artemis_program\",\n",
    "    \"https://www.nasa.gov/humans-in-space/artemis/\",\n",
    "    \"https://www.nasa.gov/mission/artemis-i/\",\n",
    "    \"https://www.nasa.gov/mission/artemis-ii/\",\n",
    "    \"https://www.nasa.gov/directorates/esdmd/common-exploration-systems-development-division/space-launch-system/rocket-propellant-tanks-for-nasas-artemis-iii-mission-take-shape/\",\n",
    "    \"https://www.nasa.gov/centers-and-facilities/hq/splashdown-nasas-orion-returns-to-earth-after-historic-moon-mission/\",\n",
    "    \"https://www.nasa.gov/missions/artemis/nasas-first-flight-with-crew-important-step-on-long-term-return-to-the-moon-missions-to-mars/\",\n",
    "    \"https://www.nasa.gov/missions/artemis/artemis-iii/\",\n",
    "    \"https://www.rmg.co.uk/stories/topics/nasa-moon-mission-artemis-program-launch-date\",\n",
    "    \"https://www.asc-csa.gc.ca/eng/astronomy/moon-exploration/artemis-missions.asp\",\n",
    "    \"https://www.space.com/nasa-artemis-2-moon-mission-delay-september-2025\"\n",
    "]\n",
    "\n",
    "content_source = {\"name\": \"Reports\", \"type\": \"Website\", \"items\": artemis_url_list}\n",
    "\n",
    "content_sources = [content_source]\n"
   ],
   "metadata": {
    "collapsed": true,
    "ExecuteTime": {
     "end_time": "2024-02-18T16:30:21.441601Z",
     "start_time": "2024-02-18T16:30:21.438272Z"
    }
   },
   "id": "initial_id"
  },
  {
   "cell_type": "markdown",
   "source": [
    "Now Load this content into the Open Search Vector DB (domain name and index)\n",
    "- You can defer providing the content source in the constructor and pass it into the load command.  This allows you to load multiple content sources into the same index."
   ],
   "metadata": {
    "collapsed": false
   },
   "id": "97065b428a5b0c72"
  },
  {
   "cell_type": "code",
   "execution_count": 2,
   "outputs": [
    {
     "name": "stdout",
     "output_type": "stream",
     "text": [
      "Going to load 1 into rise-gardens-kb-v2 domain and rise-gardens-kb-v2 name\n",
      "Processing content for Reports \n",
      "   Found 11 URLs. Filted down to 11. Lets go screen scraping (take a bit)\n",
      "   ... and scraped pages resulting in 11 documents\n",
      "Loading 11 content chunks from Reports into DB\n",
      "   Open search with endpoint=search-rise-gardens-kb-v2-oaawkglpdwe6l22d2mh4ccvsay.us-east-2.es.amazonaws.com and getting ready to load\n",
      "   Index name = index-artemis-mission and loading 11 document chunks\n",
      "   Deleting index=index-artemis-mission\n",
      "   Index deleted.\n",
      "   Now loading documents\n",
      "   Documents loaded into the DB\n"
     ]
    }
   ],
   "source": [
    "from aws_opensearch_vector_database import OpenSearchVectorDBLoader\n",
    "vectordb_loader = OpenSearchVectorDBLoader(domain_name='rise-gardens-kb-v2',  \n",
    "                                     index_name='index-artemis-mission',\n",
    "                                     data_sources=content_sources)\n",
    "\n",
    "vectordb_loader.load()"
   ],
   "metadata": {
    "collapsed": false,
    "ExecuteTime": {
     "end_time": "2024-02-18T16:30:41.809056Z",
     "start_time": "2024-02-18T16:30:21.442537Z"
    }
   },
   "id": "a9e7430db4c14cad"
  },
  {
   "cell_type": "markdown",
   "source": [
    "Query the results"
   ],
   "metadata": {
    "collapsed": false
   },
   "id": "9b8042d2b2ec5c52"
  },
  {
   "cell_type": "code",
   "execution_count": 3,
   "outputs": [
    {
     "name": "stdout",
     "output_type": "stream",
     "text": [
      "Returned 5 documents.  Summary below\n",
      "   Dock length: 7922 for URL: https://www.nasa.gov/humans-in-space/artemis/\n",
      "   Dock length: 8932 for URL: https://www.asc-csa.gc.ca/eng/astronomy/moon-exploration/artemis-missions.asp\n",
      "   Dock length: 5000 for URL: https://www.nasa.gov/mission/artemis-ii/\n",
      "   Dock length: 8172 for URL: https://www.nasa.gov/missions/artemis/nasas-first-flight-with-crew-important-step-on-long-term-return-to-the-moon-missions-to-mars/\n",
      "   Dock length: 8550 for URL: https://www.nasa.gov/missions/artemis/artemis-iii/\n"
     ]
    }
   ],
   "source": [
    "from aws_opensearch_vector_database import OpenSearchVectorDBQuery\n",
    "vectordb = OpenSearchVectorDBQuery(domain_name='rise-gardens-kb-v2', index_name='index-artemis-mission')\n",
    "results = vectordb.query(\"Who are the astronauts that are going to land on the moon\")\n",
    "print(f\"Returned {len(results)} documents.  Summary below\")\n",
    "for doc in results:\n",
    "    print(f\"   Dock length: {len(doc.page_content)} for URL: {doc.metadata['source']}\")\n"
   ],
   "metadata": {
    "collapsed": false,
    "ExecuteTime": {
     "end_time": "2024-02-18T16:30:44.762965Z",
     "start_time": "2024-02-18T16:30:41.812181Z"
    }
   },
   "id": "3463eac5a81af023"
  },
  {
   "cell_type": "code",
   "execution_count": 3,
   "outputs": [],
   "source": [],
   "metadata": {
    "collapsed": false,
    "ExecuteTime": {
     "end_time": "2024-02-18T16:30:44.763311Z",
     "start_time": "2024-02-18T16:30:44.760033Z"
    }
   },
   "id": "8e46118f80d7a8bf"
  }
 ],
 "metadata": {
  "kernelspec": {
   "display_name": "Python 3",
   "language": "python",
   "name": "python3"
  },
  "language_info": {
   "codemirror_mode": {
    "name": "ipython",
    "version": 2
   },
   "file_extension": ".py",
   "mimetype": "text/x-python",
   "name": "python",
   "nbconvert_exporter": "python",
   "pygments_lexer": "ipython2",
   "version": "2.7.6"
  }
 },
 "nbformat": 4,
 "nbformat_minor": 5
}
