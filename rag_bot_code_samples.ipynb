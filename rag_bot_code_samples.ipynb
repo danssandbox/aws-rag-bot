{
 "cells": [
  {
   "cell_type": "markdown",
   "source": [
    "A quick example of how to use this repo\n",
    "1. Load data into your OpenSearch service\n",
    "2. Ask your questions!\n",
    "\n",
    "There are lots of features not expressed in this simple code. So take a look at the rest of the examples and docs to learn more "
   ],
   "metadata": {
    "collapsed": false
   },
   "id": "168f0ee602a6ae19"
  },
  {
   "cell_type": "markdown",
   "source": [],
   "metadata": {
    "collapsed": false
   },
   "id": "94b5c30afd7e12ec"
  },
  {
   "cell_type": "code",
   "execution_count": null,
   "outputs": [],
   "source": [
    "# Define your sources.  See the more details on using the loader in open_search_vector_db directory\n",
    "from open_search_vector_db.aws_opensearch_vector_database import OpenSearchVectorDBLoader\n",
    "artemis_url_list = [\n",
    "    \"https://en.wikipedia.org/wiki/Artemis_program\",\n",
    "    \"https://www.nasa.gov/humans-in-space/artemis/\",\n",
    "    \"https://www.nasa.gov/mission/artemis-i/\",\n",
    "    \"https://www.nasa.gov/mission/artemis-ii/\",\n",
    "    \"https://www.nasa.gov/directorates/esdmd/common-exploration-systems-development-division/space-launch-system/rocket-propellant-tanks-for-nasas-artemis-iii-mission-take-shape/\",\n",
    "    \"https://www.nasa.gov/centers-and-facilities/hq/splashdown-nasas-orion-returns-to-earth-after-historic-moon-mission/\",\n",
    "    \"https://www.nasa.gov/missions/artemis/nasas-first-flight-with-crew-important-step-on-long-term-return-to-the-moon-missions-to-mars/\",\n",
    "    \"https://www.nasa.gov/missions/artemis/artemis-iii/\",\n",
    "    \"https://www.rmg.co.uk/stories/topics/nasa-moon-mission-artemis-program-launch-date\",\n",
    "    \"https://www.asc-csa.gc.ca/eng/astronomy/moon-exploration/artemis-missions.asp\",\n",
    "    \"https://www.space.com/nasa-artemis-2-moon-mission-delay-september-2025\"\n",
    "]\n",
    "\n",
    "content_source = {\"name\": \"Reports\", \"type\": \"Website\", \"items\": artemis_url_list}\n",
    "\n",
    "content_sources = [content_source]\n",
    "\n",
    "my_open_search_domain_name = 'your-opensearch-domain-name'  # replace with your domain name\n",
    "my_index_name = 'index-artemis-mission'  # if the index does not exist, it will be created, if it does, it will be deleted and recreated\n",
    "\n",
    "vectordb_loader = OpenSearchVectorDBLoader(domain_name=my_open_search_domain_name,  \n",
    "                                     index_name=my_index_name,\n",
    "                                     data_sources=content_sources)\n",
    "\n",
    "vectordb_loader.load()"
   ],
   "metadata": {
    "collapsed": false
   },
   "id": "86c904be0ef8cae7"
  },
  {
   "cell_type": "code",
   "execution_count": 1,
   "outputs": [
    {
     "name": "stdout",
     "output_type": "stream",
     "text": [
      "\n",
      "Bot: The goal of the Artemis program is to send humans back to the Moon, and eventually to Mars. The program is designed to build on the success of the Apollo program, which first sent humans to the Moon in the 1960s.\n",
      "\n",
      "The Artemis program has three main goals:\n",
      "\n",
      "- Send humans back to the Moon for the first time since 1972.\n",
      "- Build a permanent Moon base that will serve as a stepping stone to Mars.\n",
      "- Develop new technologies and capabilities that will enable humans to explore more of the solar system.\n",
      "\n",
      "The Artemis program is also designed to be more international than the Apollo program. NASA is working with a number of partner countries, including the United States, Europe, Japan, and Canada, to build and launch the Artemis missions. This collaboration will help to reduce the cost and complexity of the program and will also enable NASA to access new resources and expertise.\n",
      "\n",
      "Overall, the Artemis program is a critical step in the development of human space exploration and is designed to pave the way for future missions to Mars and beyond.\n"
     ]
    }
   ],
   "source": [
    "from rag_chatbot import RagChatbot, LlmModelTypes\n",
    "from prompt_library import NasaSpokespersonPrompts\n",
    "\n",
    "chatbot = RagChatbot(my_open_search_domain_name,\n",
    "                     LlmModelTypes.BEDROCK_TITAN_EXPRESS,\n",
    "                     prompt_model=NasaSpokespersonPrompts)\n",
    "chat_history = []\n",
    "\n",
    "question = \"What is the goal of the Artemis program?\"\n",
    "response = chatbot.ask_question(question, chat_history, verbose=True)\n",
    "print(response)"
   ],
   "metadata": {
    "collapsed": false,
    "ExecuteTime": {
     "end_time": "2024-02-22T00:50:02.921588Z",
     "start_time": "2024-02-22T00:49:41.270948Z"
    }
   },
   "id": "897c1fcdf8d8e0cc"
  },
  {
   "cell_type": "code",
   "execution_count": 2,
   "outputs": [
    {
     "ename": "NameError",
     "evalue": "name 'OpenSearchVectorDBLoader' is not defined",
     "output_type": "error",
     "traceback": [
      "\u001B[0;31m---------------------------------------------------------------------------\u001B[0m",
      "\u001B[0;31mNameError\u001B[0m                                 Traceback (most recent call last)",
      "Cell \u001B[0;32mIn[2], line 1\u001B[0m\n\u001B[0;32m----> 1\u001B[0m vectordb_loader \u001B[38;5;241m=\u001B[39m \u001B[43mOpenSearchVectorDBLoader\u001B[49m(domain_name\u001B[38;5;241m=\u001B[39mmy_open_search_domain_name,  \n\u001B[1;32m      2\u001B[0m                                      index_name\u001B[38;5;241m=\u001B[39mmy_index_name,\n\u001B[1;32m      3\u001B[0m                                      data_sources\u001B[38;5;241m=\u001B[39mcontent_sources)\n\u001B[1;32m      5\u001B[0m vectordb_loader\u001B[38;5;241m.\u001B[39mload()\n",
      "\u001B[0;31mNameError\u001B[0m: name 'OpenSearchVectorDBLoader' is not defined"
     ]
    }
   ],
   "source": [],
   "metadata": {
    "collapsed": false,
    "ExecuteTime": {
     "end_time": "2024-02-22T01:11:22.784194Z",
     "start_time": "2024-02-22T01:11:22.631419Z"
    }
   },
   "id": "8e25ca5745f679ea"
  },
  {
   "cell_type": "code",
   "execution_count": null,
   "outputs": [],
   "source": [],
   "metadata": {
    "collapsed": false
   },
   "id": "12df2b8a0fa78f46"
  }
 ],
 "metadata": {
  "kernelspec": {
   "display_name": "Python 3",
   "language": "python",
   "name": "python3"
  },
  "language_info": {
   "codemirror_mode": {
    "name": "ipython",
    "version": 2
   },
   "file_extension": ".py",
   "mimetype": "text/x-python",
   "name": "python",
   "nbconvert_exporter": "python",
   "pygments_lexer": "ipython2",
   "version": "2.7.6"
  }
 },
 "nbformat": 4,
 "nbformat_minor": 5
}
